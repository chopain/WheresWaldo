{
 "cells": [
  {
   "cell_type": "code",
   "execution_count": 52,
   "metadata": {},
   "outputs": [],
   "source": [
    "import matplotlib.pyplot as plt\n",
    "from matplotlib.pyplot import imread\n",
    "import pandas as pd\n",
    "import numpy as np\n",
    "from PIL import Image\n",
    "import io\n",
    "import os"
   ]
  },
  {
   "cell_type": "code",
   "execution_count": 53,
   "metadata": {},
   "outputs": [],
   "source": [
    "w = np.array([np.array(imread(\"../Hey-Waldo/images/64/waldo/\"+fname)) for fname in os.listdir(\"../Hey-Waldo/images/64/waldo\")])\n",
    "nw = np.array([np.array(imread(\"../Hey-Waldo/images/64/notwaldo/\"+fname)) for fname in os.listdir(\"../Hey-Waldo/images/64/notwaldo\")])"
   ]
  },
  {
   "cell_type": "code",
   "execution_count": 54,
   "metadata": {},
   "outputs": [
    {
     "data": {
      "text/plain": [
       "<matplotlib.image.AxesImage at 0x10a59bd30>"
      ]
     },
     "execution_count": 54,
     "metadata": {},
     "output_type": "execute_result"
    },
    {
     "data": {
      "image/png": "[encoded data removed]",
      "text/plain": [
       "<matplotlib.figure.Figure at 0x11a980240>"
      ]
     },
     "metadata": {},
     "output_type": "display_data"
    }
   ],
   "source": [
    "plt.imshow(nw[0])"
   ]
  },
  {
   "cell_type": "code",
   "execution_count": 55,
   "metadata": {},
   "outputs": [],
   "source": [
    "# i = ims[0].flatten('F')"
   ]
  },
  {
   "cell_type": "code",
   "execution_count": 56,
   "metadata": {},
   "outputs": [],
   "source": [
    "data = []\n",
    "for im in w:\n",
    "    data.append(im.flatten('F'))"
   ]
  },
  {
   "cell_type": "code",
   "execution_count": 57,
   "metadata": {},
   "outputs": [],
   "source": [
    "df = pd.DataFrame(data)\n",
    "df['waldo'] = 1"
   ]
  },
  {
   "cell_type": "code",
   "execution_count": 58,
   "metadata": {},
   "outputs": [],
   "source": [
    "df.to_csv('waldo.csv',index=False)"
   ]
  },
  {
   "cell_type": "code",
   "execution_count": 59,
   "metadata": {},
   "outputs": [],
   "source": [
    "data = []\n",
    "for im in nw:\n",
    "    data.append(im.flatten('F'))"
   ]
  },
  {
   "cell_type": "code",
   "execution_count": 68,
   "metadata": {},
   "outputs": [],
   "source": [
    "df2 = pd.DataFrame(data)\n",
    "df2['waldo'] = 0"
   ]
  },
  {
   "cell_type": "code",
   "execution_count": 69,
   "metadata": {},
   "outputs": [],
   "source": [
    "df2.to_csv('notwaldo.csv',index=False)"
   ]
  },
  {
   "cell_type": "code",
   "execution_count": 70,
   "metadata": {},
   "outputs": [],
   "source": [
    "df1=pd.read_csv('waldo.csv')\n",
    "df2=pd.read_csv('notwaldo.csv')"
   ]
  },
  {
   "cell_type": "code",
   "execution_count": 77,
   "metadata": {},
   "outputs": [
    {
     "data": {
      "text/plain": [
       "(5337, 12289)"
      ]
     },
     "execution_count": 77,
     "metadata": {},
     "output_type": "execute_result"
    }
   ],
   "source": [
    "df2.shape"
   ]
  },
  {
   "cell_type": "code",
   "execution_count": 74,
   "metadata": {},
   "outputs": [],
   "source": [
    "frames = [df1, df2]\n",
    "\n",
    "result = pd.concat(frames)"
   ]
  },
  {
   "cell_type": "code",
   "execution_count": 78,
   "metadata": {},
   "outputs": [
    {
     "data": {
      "text/plain": [
       "(5376, 12289)"
      ]
     },
     "execution_count": 78,
     "metadata": {},
     "output_type": "execute_result"
    }
   ],
   "source": [
    "result.shape"
   ]
  },
  {
   "cell_type": "code",
   "execution_count": 80,
   "metadata": {},
   "outputs": [],
   "source": [
    "result.to_csv('all_waldo64.csv',index=False)"
   ]
  },
  {
   "cell_type": "code",
   "execution_count": 82,
   "metadata": {},
   "outputs": [
    {
     "data": {
      "text/plain": [
       "array([[[224, 174, 212],\n",
       "        [238, 189, 219],\n",
       "        [167, 124, 141],\n",
       "        ...,\n",
       "        [ 83,  60,  70],\n",
       "        [ 60,  18,  32],\n",
       "        [ 40,   0,   6]],\n",
       "\n",
       "       [[225, 175, 210],\n",
       "        [228, 182, 210],\n",
       "        [ 69,  27,  41],\n",
       "        ...,\n",
       "        [ 32,   0,   7],\n",
       "        [ 26,   7,  13],\n",
       "        [141, 145, 144]],\n",
       "\n",
       "       [[230, 184, 213],\n",
       "        [241, 196, 217],\n",
       "        [ 32,   0,   0],\n",
       "        ...,\n",
       "        [ 50,   4,  17],\n",
       "        [144, 140, 139],\n",
       "        [174, 210, 196]],\n",
       "\n",
       "       ...,\n",
       "\n",
       "       [[144, 135,  56],\n",
       "        [ 28,  36,   0],\n",
       "        [ 56,  84,  62],\n",
       "        ...,\n",
       "        [  9,  35,  22],\n",
       "        [ 92, 164, 186],\n",
       "        [105, 208, 253]],\n",
       "\n",
       "       [[137, 116,  35],\n",
       "        [ 50,  61,   3],\n",
       "        [ 34,  82,  66],\n",
       "        ...,\n",
       "        [ 32,  49,  31],\n",
       "        [ 65, 127, 148],\n",
       "        [100, 193, 237]],\n",
       "\n",
       "       [[168, 127,  83],\n",
       "        [ 10,  18,   0],\n",
       "        [  0,  41,  57],\n",
       "        ...,\n",
       "        [ 73,  82,  63],\n",
       "        [  0,  14,  34],\n",
       "        [ 39, 123, 169]]], dtype=uint8)"
      ]
     },
     "execution_count": 82,
     "metadata": {},
     "output_type": "execute_result"
    }
   ],
   "source": [
    "w[0]"
   ]
  },
  {
   "cell_type": "code",
   "execution_count": 86,
   "metadata": {},
   "outputs": [
    {
     "name": "stderr",
     "output_type": "stream",
     "text": [
      "/usr/local/lib/python3.6/site-packages/ipykernel_launcher.py:1: FutureWarning: reshape is deprecated and will raise in a subsequent release. Please use .values.reshape(...) instead\n",
      "  \"\"\"Entry point for launching an IPython kernel.\n"
     ]
    },
    {
     "data": {
      "text/plain": [
       "array([[[224, 174, 212],\n",
       "        [238, 189, 219],\n",
       "        [167, 124, 141],\n",
       "        ...,\n",
       "        [ 83,  60,  70],\n",
       "        [ 60,  18,  32],\n",
       "        [ 40,   0,   6]],\n",
       "\n",
       "       [[225, 175, 210],\n",
       "        [228, 182, 210],\n",
       "        [ 69,  27,  41],\n",
       "        ...,\n",
       "        [ 32,   0,   7],\n",
       "        [ 26,   7,  13],\n",
       "        [141, 145, 144]],\n",
       "\n",
       "       [[230, 184, 213],\n",
       "        [241, 196, 217],\n",
       "        [ 32,   0,   0],\n",
       "        ...,\n",
       "        [ 50,   4,  17],\n",
       "        [144, 140, 139],\n",
       "        [174, 210, 196]],\n",
       "\n",
       "       ...,\n",
       "\n",
       "       [[144, 135,  56],\n",
       "        [ 28,  36,   0],\n",
       "        [ 56,  84,  62],\n",
       "        ...,\n",
       "        [  9,  35,  22],\n",
       "        [ 92, 164, 186],\n",
       "        [105, 208, 253]],\n",
       "\n",
       "       [[137, 116,  35],\n",
       "        [ 50,  61,   3],\n",
       "        [ 34,  82,  66],\n",
       "        ...,\n",
       "        [ 32,  49,  31],\n",
       "        [ 65, 127, 148],\n",
       "        [100, 193, 237]],\n",
       "\n",
       "       [[168, 127,  83],\n",
       "        [ 10,  18,   0],\n",
       "        [  0,  41,  57],\n",
       "        ...,\n",
       "        [ 73,  82,  63],\n",
       "        [  0,  14,  34],\n",
       "        [ 39, 123, 169]]])"
      ]
     },
     "execution_count": 86,
     "metadata": {},
     "output_type": "execute_result"
    }
   ],
   "source": [
    "df.iloc[0].drop('waldo').reshape(3, 64, 64).transpose().reshape(64,64, 3)"
   ]
  },
  {
   "cell_type": "code",
   "execution_count": null,
   "metadata": {},
   "outputs": [],
   "source": []
  }
 ],
 "metadata": {
  "kernelspec": {
   "display_name": "Python 3",
   "language": "python",
   "name": "python3"
  },
  "language_info": {
   "codemirror_mode": {
    "name": "ipython",
    "version": 3
   },
   "file_extension": ".py",
   "mimetype": "text/x-python",
   "name": "python",
   "nbconvert_exporter": "python",
   "pygments_lexer": "ipython3",
   "version": "3.6.3"
  }
 },
 "nbformat": 4,
 "nbformat_minor": 2
}
